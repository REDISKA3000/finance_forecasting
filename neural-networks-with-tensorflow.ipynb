{
 "cells": [
  {
   "cell_type": "code",
   "execution_count": 1,
   "id": "31ed705c",
   "metadata": {
    "_cell_guid": "b1076dfc-b9ad-4769-8c92-a6c4dae69d19",
    "_uuid": "8f2839f25d086af736a60e9eeb907d3b93b6e0e5",
    "execution": {
     "iopub.execute_input": "2022-10-10T22:32:32.957804Z",
     "iopub.status.busy": "2022-10-10T22:32:32.956926Z",
     "iopub.status.idle": "2022-10-10T22:32:32.975563Z",
     "shell.execute_reply": "2022-10-10T22:32:32.974342Z"
    },
    "papermill": {
     "duration": 0.027519,
     "end_time": "2022-10-10T22:32:32.978327",
     "exception": false,
     "start_time": "2022-10-10T22:32:32.950808",
     "status": "completed"
    },
    "tags": []
   },
   "outputs": [],
   "source": [
    "# This Python 3 environment comes with many helpful analytics libraries installed\n",
    "# It is defined by the kaggle/python Docker image: https://github.com/kaggle/docker-python\n",
    "# For example, here's several helpful packages to load\n",
    "\n",
    "import numpy as np # linear algebra\n",
    "import pandas as pd # data processing, CSV file I/O (e.g. pd.read_csv)\n",
    "\n",
    "# Input data files are available in the read-only \"../input/\" directory\n",
    "# For example, running this (by clicking run or pressing Shift+Enter) will list all files under the input directory\n",
    "\n",
    "import os\n",
    "for dirname, _, filenames in os.walk(\"data/winequality-white.csv\"):\n",
    "    for filename in filenames:\n",
    "        print(os.path.join(dirname, filename))\n",
    "\n",
    "# You can write up to 20GB to the current directory (/kaggle/working/) that gets preserved as output when you create a version using \"Save & Run All\" \n",
    "# You can also write temporary files to /kaggle/temp/, but they won't be saved outside of the current session"
   ]
  },
  {
   "cell_type": "code",
   "execution_count": 6,
   "id": "df6e073b",
   "metadata": {
    "execution": {
     "iopub.execute_input": "2022-10-10T22:32:32.986658Z",
     "iopub.status.busy": "2022-10-10T22:32:32.986255Z",
     "iopub.status.idle": "2022-10-10T22:32:33.040722Z",
     "shell.execute_reply": "2022-10-10T22:32:33.039589Z"
    },
    "papermill": {
     "duration": 0.061583,
     "end_time": "2022-10-10T22:32:33.043318",
     "exception": false,
     "start_time": "2022-10-10T22:32:32.981735",
     "status": "completed"
    },
    "tags": []
   },
   "outputs": [
    {
     "data": {
      "text/plain": "   fixed acidity  volatile acidity  citric acid  residual sugar  chlorides  \\\n0            7.0              0.27         0.36            20.7      0.045   \n1            6.3              0.30         0.34             1.6      0.049   \n2            8.1              0.28         0.40             6.9      0.050   \n3            7.2              0.23         0.32             8.5      0.058   \n4            7.2              0.23         0.32             8.5      0.058   \n\n   free sulfur dioxide  total sulfur dioxide  density    pH  sulphates  \\\n0                 45.0                 170.0   1.0010  3.00       0.45   \n1                 14.0                 132.0   0.9940  3.30       0.49   \n2                 30.0                  97.0   0.9951  3.26       0.44   \n3                 47.0                 186.0   0.9956  3.19       0.40   \n4                 47.0                 186.0   0.9956  3.19       0.40   \n\n   alcohol  quality  \n0      8.8        6  \n1      9.5        6  \n2     10.1        6  \n3      9.9        6  \n4      9.9        6  ",
      "text/html": "<div>\n<style scoped>\n    .dataframe tbody tr th:only-of-type {\n        vertical-align: middle;\n    }\n\n    .dataframe tbody tr th {\n        vertical-align: top;\n    }\n\n    .dataframe thead th {\n        text-align: right;\n    }\n</style>\n<table border=\"1\" class=\"dataframe\">\n  <thead>\n    <tr style=\"text-align: right;\">\n      <th></th>\n      <th>fixed acidity</th>\n      <th>volatile acidity</th>\n      <th>citric acid</th>\n      <th>residual sugar</th>\n      <th>chlorides</th>\n      <th>free sulfur dioxide</th>\n      <th>total sulfur dioxide</th>\n      <th>density</th>\n      <th>pH</th>\n      <th>sulphates</th>\n      <th>alcohol</th>\n      <th>quality</th>\n    </tr>\n  </thead>\n  <tbody>\n    <tr>\n      <th>0</th>\n      <td>7.0</td>\n      <td>0.27</td>\n      <td>0.36</td>\n      <td>20.7</td>\n      <td>0.045</td>\n      <td>45.0</td>\n      <td>170.0</td>\n      <td>1.0010</td>\n      <td>3.00</td>\n      <td>0.45</td>\n      <td>8.8</td>\n      <td>6</td>\n    </tr>\n    <tr>\n      <th>1</th>\n      <td>6.3</td>\n      <td>0.30</td>\n      <td>0.34</td>\n      <td>1.6</td>\n      <td>0.049</td>\n      <td>14.0</td>\n      <td>132.0</td>\n      <td>0.9940</td>\n      <td>3.30</td>\n      <td>0.49</td>\n      <td>9.5</td>\n      <td>6</td>\n    </tr>\n    <tr>\n      <th>2</th>\n      <td>8.1</td>\n      <td>0.28</td>\n      <td>0.40</td>\n      <td>6.9</td>\n      <td>0.050</td>\n      <td>30.0</td>\n      <td>97.0</td>\n      <td>0.9951</td>\n      <td>3.26</td>\n      <td>0.44</td>\n      <td>10.1</td>\n      <td>6</td>\n    </tr>\n    <tr>\n      <th>3</th>\n      <td>7.2</td>\n      <td>0.23</td>\n      <td>0.32</td>\n      <td>8.5</td>\n      <td>0.058</td>\n      <td>47.0</td>\n      <td>186.0</td>\n      <td>0.9956</td>\n      <td>3.19</td>\n      <td>0.40</td>\n      <td>9.9</td>\n      <td>6</td>\n    </tr>\n    <tr>\n      <th>4</th>\n      <td>7.2</td>\n      <td>0.23</td>\n      <td>0.32</td>\n      <td>8.5</td>\n      <td>0.058</td>\n      <td>47.0</td>\n      <td>186.0</td>\n      <td>0.9956</td>\n      <td>3.19</td>\n      <td>0.40</td>\n      <td>9.9</td>\n      <td>6</td>\n    </tr>\n  </tbody>\n</table>\n</div>"
     },
     "execution_count": 6,
     "metadata": {},
     "output_type": "execute_result"
    }
   ],
   "source": [
    "red_wine = pd.read_csv(\"data/winequality-white.csv\", delimiter = ';')\n",
    "red_wine.head()"
   ]
  },
  {
   "cell_type": "code",
   "execution_count": 7,
   "id": "74228b0f",
   "metadata": {
    "execution": {
     "iopub.execute_input": "2022-10-10T22:32:33.052190Z",
     "iopub.status.busy": "2022-10-10T22:32:33.051815Z",
     "iopub.status.idle": "2022-10-10T22:32:33.079420Z",
     "shell.execute_reply": "2022-10-10T22:32:33.078297Z"
    },
    "papermill": {
     "duration": 0.0352,
     "end_time": "2022-10-10T22:32:33.082065",
     "exception": false,
     "start_time": "2022-10-10T22:32:33.046865",
     "status": "completed"
    },
    "tags": []
   },
   "outputs": [
    {
     "name": "stdout",
     "output_type": "stream",
     "text": [
      "<class 'pandas.core.frame.DataFrame'>\n",
      "RangeIndex: 4898 entries, 0 to 4897\n",
      "Data columns (total 12 columns):\n",
      " #   Column                Non-Null Count  Dtype  \n",
      "---  ------                --------------  -----  \n",
      " 0   fixed acidity         4898 non-null   float64\n",
      " 1   volatile acidity      4898 non-null   float64\n",
      " 2   citric acid           4898 non-null   float64\n",
      " 3   residual sugar        4898 non-null   float64\n",
      " 4   chlorides             4898 non-null   float64\n",
      " 5   free sulfur dioxide   4898 non-null   float64\n",
      " 6   total sulfur dioxide  4898 non-null   float64\n",
      " 7   density               4898 non-null   float64\n",
      " 8   pH                    4898 non-null   float64\n",
      " 9   sulphates             4898 non-null   float64\n",
      " 10  alcohol               4898 non-null   float64\n",
      " 11  quality               4898 non-null   int64  \n",
      "dtypes: float64(11), int64(1)\n",
      "memory usage: 459.3 KB\n"
     ]
    }
   ],
   "source": [
    "red_wine.info()"
   ]
  },
  {
   "cell_type": "code",
   "execution_count": 8,
   "id": "0d59f53b",
   "metadata": {
    "execution": {
     "iopub.execute_input": "2022-10-10T22:32:33.091796Z",
     "iopub.status.busy": "2022-10-10T22:32:33.091351Z",
     "iopub.status.idle": "2022-10-10T22:32:33.101706Z",
     "shell.execute_reply": "2022-10-10T22:32:33.100623Z"
    },
    "papermill": {
     "duration": 0.017944,
     "end_time": "2022-10-10T22:32:33.103967",
     "exception": false,
     "start_time": "2022-10-10T22:32:33.086023",
     "status": "completed"
    },
    "tags": []
   },
   "outputs": [
    {
     "data": {
      "text/plain": "['fixed acidity',\n 'volatile acidity',\n 'citric acid',\n 'residual sugar',\n 'free sulfur dioxide',\n 'total sulfur dioxide',\n 'density',\n 'pH',\n 'sulphates',\n 'alcohol']"
     },
     "execution_count": 8,
     "metadata": {},
     "output_type": "execute_result"
    }
   ],
   "source": [
    "normalize_col = [col for col in red_wine.columns if col != \"quality\" and red_wine[col].max() > 1]\n",
    "normalize_col"
   ]
  },
  {
   "cell_type": "code",
   "execution_count": 9,
   "id": "c07218e6",
   "metadata": {
    "execution": {
     "iopub.execute_input": "2022-10-10T22:32:33.113071Z",
     "iopub.status.busy": "2022-10-10T22:32:33.112707Z",
     "iopub.status.idle": "2022-10-10T22:32:34.294631Z",
     "shell.execute_reply": "2022-10-10T22:32:34.293149Z"
    },
    "papermill": {
     "duration": 1.190131,
     "end_time": "2022-10-10T22:32:34.297798",
     "exception": false,
     "start_time": "2022-10-10T22:32:33.107667",
     "status": "completed"
    },
    "tags": []
   },
   "outputs": [],
   "source": [
    "# Normalize the data\n",
    "from sklearn.compose import make_column_transformer\n",
    "from sklearn.preprocessing import MinMaxScaler\n",
    "from sklearn.model_selection import train_test_split\n",
    "\n",
    "# Create column transformer\n",
    "ct = make_column_transformer(\n",
    "    (MinMaxScaler(), normalize_col)\n",
    ")\n",
    "\n",
    "# Create X & y\n",
    "X = red_wine.drop(\"quality\", axis=1)\n",
    "y = red_wine[\"quality\"]\n",
    "\n",
    "# Build our train & test sets\n",
    "X_train, X_test, y_train, y_test = train_test_split(X, y, test_size=0.2, random_state=18)\n",
    "\n",
    "# Fit the column transformer to our training data\n",
    "ct.fit(X_train)\n",
    "\n",
    "# Transform training & test data with normalization (MinMaxScaler)\n",
    "X_train_normalized = ct.transform(X_train)\n",
    "X_test_normalized = ct.transform(X_test)"
   ]
  },
  {
   "cell_type": "code",
   "execution_count": 10,
   "outputs": [
    {
     "data": {
      "text/plain": "array([[0.49367089, 0.16666667, 0.24698795, ..., 0.58181818, 0.25882353,\n        0.32258065],\n       [0.43037975, 0.1372549 , 0.15662651, ..., 0.5       , 0.29411765,\n        0.51612903],\n       [0.44303797, 0.11764706, 0.22289157, ..., 0.28181818, 0.22352941,\n        0.19354839],\n       ...,\n       [0.41772152, 0.16666667, 0.19277108, ..., 0.49090909, 0.24705882,\n        0.40322581],\n       [0.39240506, 0.14705882, 0.1686747 , ..., 0.41818182, 0.38823529,\n        0.20967742],\n       [0.26582278, 0.20588235, 0.15060241, ..., 0.32727273, 0.23529412,\n        0.83870968]])"
     },
     "execution_count": 10,
     "metadata": {},
     "output_type": "execute_result"
    }
   ],
   "source": [
    "X_train_normalized"
   ],
   "metadata": {
    "collapsed": false
   }
  },
  {
   "cell_type": "code",
   "execution_count": 16,
   "id": "3393a376",
   "metadata": {
    "execution": {
     "iopub.execute_input": "2022-10-10T22:32:34.310519Z",
     "iopub.status.busy": "2022-10-10T22:32:34.310075Z",
     "iopub.status.idle": "2022-10-10T22:33:05.043182Z",
     "shell.execute_reply": "2022-10-10T22:33:05.042070Z"
    },
    "papermill": {
     "duration": 30.743842,
     "end_time": "2022-10-10T22:33:05.045862",
     "exception": false,
     "start_time": "2022-10-10T22:32:34.302020",
     "status": "completed"
    },
    "tags": []
   },
   "outputs": [
    {
     "name": "stdout",
     "output_type": "stream",
     "text": [
      "Epoch 1/1000\n",
      "123/123 [==============================] - 2s 8ms/step - loss: 2.5081 - val_loss: 0.7077\n",
      "Epoch 2/1000\n",
      "123/123 [==============================] - 1s 6ms/step - loss: 0.7103 - val_loss: 0.6107\n",
      "Epoch 3/1000\n",
      "123/123 [==============================] - 1s 5ms/step - loss: 0.6320 - val_loss: 0.5480\n",
      "Epoch 4/1000\n",
      "123/123 [==============================] - 1s 5ms/step - loss: 0.5583 - val_loss: 0.5173\n",
      "Epoch 5/1000\n",
      "123/123 [==============================] - 1s 5ms/step - loss: 0.5689 - val_loss: 0.5219\n",
      "Epoch 6/1000\n",
      "123/123 [==============================] - 1s 5ms/step - loss: 0.5599 - val_loss: 0.5390\n",
      "Epoch 7/1000\n",
      "123/123 [==============================] - 1s 5ms/step - loss: 0.5861 - val_loss: 0.5080\n",
      "Epoch 8/1000\n",
      "123/123 [==============================] - 1s 5ms/step - loss: 0.5301 - val_loss: 0.5652\n",
      "Epoch 9/1000\n",
      "123/123 [==============================] - 1s 6ms/step - loss: 0.5397 - val_loss: 0.5177\n",
      "Epoch 10/1000\n",
      "123/123 [==============================] - 1s 5ms/step - loss: 0.5343 - val_loss: 0.5983\n",
      "Epoch 11/1000\n",
      "123/123 [==============================] - 1s 5ms/step - loss: 0.5501 - val_loss: 0.4975\n",
      "Epoch 12/1000\n",
      "123/123 [==============================] - 1s 5ms/step - loss: 0.5261 - val_loss: 0.4968\n",
      "Epoch 13/1000\n",
      "123/123 [==============================] - 1s 5ms/step - loss: 0.5172 - val_loss: 0.4987\n",
      "Epoch 14/1000\n",
      "123/123 [==============================] - 1s 5ms/step - loss: 0.5489 - val_loss: 0.4896\n",
      "Epoch 15/1000\n",
      "123/123 [==============================] - 1s 5ms/step - loss: 0.5211 - val_loss: 0.5509\n",
      "Epoch 16/1000\n",
      "123/123 [==============================] - 1s 5ms/step - loss: 0.5013 - val_loss: 0.4952\n",
      "Epoch 17/1000\n",
      "123/123 [==============================] - 1s 6ms/step - loss: 0.5068 - val_loss: 0.4937\n",
      "Epoch 18/1000\n",
      "123/123 [==============================] - 1s 6ms/step - loss: 0.5059 - val_loss: 0.4978\n",
      "Epoch 19/1000\n",
      "123/123 [==============================] - 1s 6ms/step - loss: 0.5030 - val_loss: 0.5149\n",
      "Epoch 20/1000\n",
      "123/123 [==============================] - 1s 6ms/step - loss: 0.5031 - val_loss: 0.5885\n",
      "Epoch 21/1000\n",
      "123/123 [==============================] - 1s 5ms/step - loss: 0.5115 - val_loss: 0.5341\n",
      "Epoch 22/1000\n",
      "123/123 [==============================] - 1s 5ms/step - loss: 0.4854 - val_loss: 0.5126\n",
      "Epoch 23/1000\n",
      "123/123 [==============================] - 1s 5ms/step - loss: 0.4868 - val_loss: 0.5180\n",
      "Epoch 24/1000\n",
      "123/123 [==============================] - 1s 6ms/step - loss: 0.5019 - val_loss: 0.4929\n",
      "Epoch 25/1000\n",
      "123/123 [==============================] - 1s 6ms/step - loss: 0.5139 - val_loss: 0.4922\n",
      "Epoch 26/1000\n",
      "123/123 [==============================] - 1s 7ms/step - loss: 0.4904 - val_loss: 0.5073\n",
      "Epoch 27/1000\n",
      "123/123 [==============================] - 1s 6ms/step - loss: 0.4858 - val_loss: 0.5809\n",
      "Epoch 28/1000\n",
      "123/123 [==============================] - 1s 5ms/step - loss: 0.4807 - val_loss: 0.5249\n",
      "Epoch 29/1000\n",
      "123/123 [==============================] - 1s 5ms/step - loss: 0.4658 - val_loss: 0.4924\n",
      "Epoch 30/1000\n",
      "123/123 [==============================] - 1s 6ms/step - loss: 0.4960 - val_loss: 0.5221\n",
      "Epoch 31/1000\n",
      "123/123 [==============================] - 1s 5ms/step - loss: 0.4772 - val_loss: 0.5594\n",
      "Epoch 32/1000\n",
      "123/123 [==============================] - 1s 6ms/step - loss: 0.4674 - val_loss: 0.4827\n",
      "Epoch 33/1000\n",
      "123/123 [==============================] - 1s 5ms/step - loss: 0.4587 - val_loss: 0.5383\n",
      "Epoch 34/1000\n",
      "123/123 [==============================] - 1s 5ms/step - loss: 0.4731 - val_loss: 0.4860\n",
      "Epoch 35/1000\n",
      "123/123 [==============================] - 1s 5ms/step - loss: 0.4692 - val_loss: 0.4899\n",
      "Epoch 36/1000\n",
      "123/123 [==============================] - 1s 5ms/step - loss: 0.4574 - val_loss: 0.4821\n",
      "Epoch 37/1000\n",
      "123/123 [==============================] - 1s 5ms/step - loss: 0.4675 - val_loss: 0.4917\n",
      "Epoch 38/1000\n",
      "123/123 [==============================] - 1s 5ms/step - loss: 0.4755 - val_loss: 0.4976\n",
      "Epoch 39/1000\n",
      "123/123 [==============================] - 1s 5ms/step - loss: 0.4686 - val_loss: 0.5551\n",
      "Epoch 40/1000\n",
      "123/123 [==============================] - 1s 5ms/step - loss: 0.4762 - val_loss: 0.4780\n",
      "Epoch 41/1000\n",
      "123/123 [==============================] - 1s 6ms/step - loss: 0.4580 - val_loss: 0.4874\n",
      "Epoch 42/1000\n",
      "123/123 [==============================] - 1s 6ms/step - loss: 0.4548 - val_loss: 0.5936\n",
      "Epoch 43/1000\n",
      "123/123 [==============================] - 1s 5ms/step - loss: 0.4539 - val_loss: 0.5345\n",
      "Epoch 44/1000\n",
      "123/123 [==============================] - 1s 6ms/step - loss: 0.4411 - val_loss: 0.4954\n",
      "Epoch 45/1000\n",
      "123/123 [==============================] - 1s 5ms/step - loss: 0.4452 - val_loss: 0.5414\n",
      "Epoch 46/1000\n",
      "123/123 [==============================] - 1s 5ms/step - loss: 0.4417 - val_loss: 0.5025\n",
      "Epoch 47/1000\n",
      "123/123 [==============================] - 1s 5ms/step - loss: 0.4605 - val_loss: 0.4808\n",
      "Epoch 48/1000\n",
      "123/123 [==============================] - 1s 5ms/step - loss: 0.4453 - val_loss: 0.4927\n",
      "Epoch 49/1000\n",
      "123/123 [==============================] - 1s 5ms/step - loss: 0.4327 - val_loss: 0.5722\n",
      "Epoch 50/1000\n",
      "123/123 [==============================] - 1s 6ms/step - loss: 0.4329 - val_loss: 0.4916\n",
      "Epoch 51/1000\n",
      "123/123 [==============================] - 1s 6ms/step - loss: 0.4434 - val_loss: 0.5058\n",
      "Epoch 52/1000\n",
      "123/123 [==============================] - 1s 5ms/step - loss: 0.4304 - val_loss: 0.5097\n",
      "Epoch 53/1000\n",
      "123/123 [==============================] - 1s 5ms/step - loss: 0.4383 - val_loss: 0.5091\n",
      "Epoch 54/1000\n",
      "123/123 [==============================] - 1s 6ms/step - loss: 0.4296 - val_loss: 0.5088\n",
      "Epoch 55/1000\n",
      "123/123 [==============================] - 1s 5ms/step - loss: 0.4171 - val_loss: 0.4781\n",
      "Epoch 56/1000\n",
      "123/123 [==============================] - 1s 5ms/step - loss: 0.4171 - val_loss: 0.5009\n",
      "Epoch 57/1000\n",
      "123/123 [==============================] - 1s 5ms/step - loss: 0.4113 - val_loss: 0.5090\n",
      "Epoch 58/1000\n",
      "123/123 [==============================] - 1s 5ms/step - loss: 0.4165 - val_loss: 0.4817\n",
      "Epoch 59/1000\n",
      "123/123 [==============================] - 1s 5ms/step - loss: 0.4171 - val_loss: 0.6873\n",
      "Epoch 60/1000\n",
      "123/123 [==============================] - 1s 6ms/step - loss: 0.4103 - val_loss: 0.5140\n"
     ]
    },
    {
     "data": {
      "text/plain": "<keras.callbacks.History at 0x1a10610f3d0>"
     },
     "execution_count": 16,
     "metadata": {},
     "output_type": "execute_result"
    }
   ],
   "source": [
    "## Build a neural network model to fit our normalized data\n",
    "import tensorflow as tf\n",
    "\n",
    "# Set random seed\n",
    "tf.random.set_seed(18)\n",
    "\n",
    "# 1. Create the model\n",
    "model = tf.keras.Sequential(\n",
    "    [\n",
    "        tf.keras.layers.Dense(512, activation='relu', input_shape=[10]),\n",
    "        tf.keras.layers.Dense(512, activation='relu'),\n",
    "        tf.keras.layers.Dense(512, activation='relu'),\n",
    "        tf.keras.layers.Dense(512, activation='relu'),\n",
    "        tf.keras.layers.Dense(1)\n",
    "\n",
    "    ]\n",
    ")\n",
    "\n",
    "# 2. Compile the model\n",
    "model.compile(\n",
    "    loss=\"mse\",\n",
    "    optimizer=\"adam\"\n",
    ")\n",
    "\n",
    "# 3. Create a callback using Early Stopping\n",
    "from tensorflow.keras.callbacks import EarlyStopping\n",
    "callback = EarlyStopping(    \n",
    "    min_delta=0, # minimium amount of change to count as an improvement\n",
    "    patience=20, # how many epochs to wait before stopping\n",
    "    restore_best_weights=True)\n",
    "\n",
    "# 4. Fit our model\n",
    "model.fit(\n",
    "     X_train_normalized,\n",
    "     y_train,\n",
    "     validation_data=(X_test_normalized, y_test),\n",
    "     epochs=1000,\n",
    "     callbacks=[callback],\n",
    " )"
   ]
  },
  {
   "cell_type": "code",
   "execution_count": 17,
   "id": "1315918d",
   "metadata": {
    "execution": {
     "iopub.execute_input": "2022-10-10T22:33:05.056033Z",
     "iopub.status.busy": "2022-10-10T22:33:05.054895Z",
     "iopub.status.idle": "2022-10-10T22:33:05.361788Z",
     "shell.execute_reply": "2022-10-10T22:33:05.360413Z"
    },
    "papermill": {
     "duration": 0.314533,
     "end_time": "2022-10-10T22:33:05.364349",
     "exception": false,
     "start_time": "2022-10-10T22:33:05.049816",
     "status": "completed"
    },
    "tags": []
   },
   "outputs": [
    {
     "data": {
      "text/plain": "Text(0.5, 0, 'epochs')"
     },
     "execution_count": 17,
     "metadata": {},
     "output_type": "execute_result"
    },
    {
     "data": {
      "text/plain": "<Figure size 640x480 with 1 Axes>",
      "image/png": "[encoded data removed]"
     },
     "metadata": {},
     "output_type": "display_data"
    }
   ],
   "source": [
    "# plot history\n",
    "import matplotlib.pyplot as plt\n",
    "pd.DataFrame(history.history).plot()\n",
    "plt.ylabel(\"loss\")\n",
    "plt.xlabel(\"epochs\")"
   ]
  },
  {
   "cell_type": "code",
   "execution_count": 8,
   "id": "241b2394",
   "metadata": {
    "execution": {
     "iopub.execute_input": "2022-10-10T22:33:05.374654Z",
     "iopub.status.busy": "2022-10-10T22:33:05.374237Z",
     "iopub.status.idle": "2022-10-10T22:33:05.468770Z",
     "shell.execute_reply": "2022-10-10T22:33:05.467601Z"
    },
    "papermill": {
     "duration": 0.102478,
     "end_time": "2022-10-10T22:33:05.471171",
     "exception": false,
     "start_time": "2022-10-10T22:33:05.368693",
     "status": "completed"
    },
    "tags": []
   },
   "outputs": [
    {
     "name": "stdout",
     "output_type": "stream",
     "text": [
      "10/10 [==============================] - 0s 3ms/step - loss: 0.3653\n"
     ]
    },
    {
     "data": {
      "text/plain": [
       "0.36526423692703247"
      ]
     },
     "execution_count": 8,
     "metadata": {},
     "output_type": "execute_result"
    }
   ],
   "source": [
    "# Evaluate the larger model\n",
    "model.evaluate(X_test_normalized, y_test)"
   ]
  },
  {
   "cell_type": "markdown",
   "id": "cfaad3c5",
   "metadata": {
    "execution": {
     "iopub.execute_input": "2022-10-10T22:17:57.186451Z",
     "iopub.status.busy": "2022-10-10T22:17:57.186051Z",
     "iopub.status.idle": "2022-10-10T22:17:57.198506Z",
     "shell.execute_reply": "2022-10-10T22:17:57.197410Z",
     "shell.execute_reply.started": "2022-10-10T22:17:57.186400Z"
    },
    "papermill": {
     "duration": 0.004193,
     "end_time": "2022-10-10T22:33:05.479991",
     "exception": false,
     "start_time": "2022-10-10T22:33:05.475798",
     "status": "completed"
    },
    "tags": []
   },
   "source": [
    "\"\"\" 10/10 [==============================] - 0s 4ms/step - loss: 0.3679\n",
    "0.36786723136901855\"\"\""
   ]
  }
 ],
 "metadata": {
  "kernelspec": {
   "display_name": "Python 3",
   "language": "python",
   "name": "python3"
  },
  "language_info": {
   "codemirror_mode": {
    "name": "ipython",
    "version": 3
   },
   "file_extension": ".py",
   "mimetype": "text/x-python",
   "name": "python",
   "nbconvert_exporter": "python",
   "pygments_lexer": "ipython3",
   "version": "3.7.12"
  },
  "papermill": {
   "default_parameters": {},
   "duration": 45.184868,
   "end_time": "2022-10-10T22:33:08.792148",
   "environment_variables": {},
   "exception": null,
   "input_path": "__notebook__.ipynb",
   "output_path": "__notebook__.ipynb",
   "parameters": {},
   "start_time": "2022-10-10T22:32:23.607280",
   "version": "2.3.4"
  }
 },
 "nbformat": 4,
 "nbformat_minor": 5
}
